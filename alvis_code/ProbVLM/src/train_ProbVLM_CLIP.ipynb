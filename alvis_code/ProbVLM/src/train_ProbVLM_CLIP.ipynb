{
 "cells": [
  {
   "cell_type": "code",
   "execution_count": 41,
   "id": "5e6f1b82-b385-442f-9252-b577435b3362",
   "metadata": {},
   "outputs": [],
   "source": [
    "# !source ../UQ_env/bin/activate"
   ]
  },
  {
   "cell_type": "code",
   "execution_count": null,
   "id": "9ee7b0fd-b861-4f10-ae15-abe75d190d5f",
   "metadata": {},
   "outputs": [],
   "source": [
    "!python -m ipykernel install --user --name=UQ_env --display-name=\"My Python\""
   ]
  },
  {
   "cell_type": "code",
   "execution_count": 10,
   "id": "913bcc12-c5e7-4b20-8119-098b9a5fb6dd",
   "metadata": {},
   "outputs": [
    {
     "name": "stderr",
     "output_type": "stream",
     "text": [
      "0it [00:00, ?it/s]\n"
     ]
    }
   ],
   "source": [
    "%run ds/vocabs/make_vocab.py \"ds/test/\""
   ]
  },
  {
   "cell_type": "code",
   "execution_count": null,
   "id": "2986807e-7850-404f-a957-eaeb16371d24",
   "metadata": {},
   "outputs": [],
   "source": [
    "import os\n",
    "\n",
    "from os.path import join as ospj\n",
    "from os.path import expanduser\n",
    "from munch import Munch as mch\n",
    "import numpy as np\n",
    "\n",
    "from ds import prepare_coco_dataloaders, prepare_flickr_dataloaders, prepare_cub_dataloaders, prepare_flo_dataloaders\n",
    "\n",
    "from utils import load_data_loader\n",
    "from networks import *\n",
    "from train_ProbVLM import *\n",
    "\n",
    "import matplotlib.pyplot as plt\n"
   ]
  },
  {
   "cell_type": "code",
   "execution_count": 16,
   "id": "fbdb7f39-293e-48fe-bd3b-da616157f4a9",
   "metadata": {},
   "outputs": [
    {
     "ename": "FileNotFoundError",
     "evalue": "[Errno 2] No such file or directory: 'ds/vocabs/cub_vocab.pkl'",
     "output_type": "error",
     "traceback": [
      "\u001b[0;31m---------------------------------------------------------------------------\u001b[0m",
      "\u001b[0;31mFileNotFoundError\u001b[0m                         Traceback (most recent call last)",
      "Cell \u001b[0;32mIn[16], line 8\u001b[0m\n\u001b[1;32m      2\u001b[0m data_dir \u001b[38;5;241m=\u001b[39m ospj(\u001b[38;5;124m'\u001b[39m\u001b[38;5;124m/mnt/Datasets/\u001b[39m\u001b[38;5;124m'\u001b[39m, dataset) \u001b[38;5;66;03m# e.g. ospj(expanduser('~'), 'Documents', 'jm', 'data', dataset)\u001b[39;00m\n\u001b[1;32m      3\u001b[0m dataloader_config \u001b[38;5;241m=\u001b[39m mch({\n\u001b[1;32m      4\u001b[0m     \u001b[38;5;124m'\u001b[39m\u001b[38;5;124mbatch_size\u001b[39m\u001b[38;5;124m'\u001b[39m: \u001b[38;5;241m64\u001b[39m,\n\u001b[1;32m      5\u001b[0m     \u001b[38;5;124m'\u001b[39m\u001b[38;5;124mrandom_erasing_prob\u001b[39m\u001b[38;5;124m'\u001b[39m: \u001b[38;5;241m0.\u001b[39m,\n\u001b[1;32m      6\u001b[0m     \u001b[38;5;124m'\u001b[39m\u001b[38;5;124mtraindata_shuffle\u001b[39m\u001b[38;5;124m'\u001b[39m: \u001b[38;5;28;01mTrue\u001b[39;00m\n\u001b[1;32m      7\u001b[0m })\n\u001b[0;32m----> 8\u001b[0m loaders,vocab \u001b[38;5;241m=\u001b[39m \u001b[43mload_data_loader\u001b[49m\u001b[43m(\u001b[49m\u001b[43mdataset\u001b[49m\u001b[43m,\u001b[49m\u001b[43m \u001b[49m\u001b[43mdata_dir\u001b[49m\u001b[43m,\u001b[49m\u001b[43m \u001b[49m\u001b[43mdataloader_config\u001b[49m\u001b[43m)\u001b[49m\n\u001b[1;32m      9\u001b[0m cub_train_loader, cub_valid_loader, cub_test_loader \u001b[38;5;241m=\u001b[39m loaders[\u001b[38;5;124m'\u001b[39m\u001b[38;5;124mtrain\u001b[39m\u001b[38;5;124m'\u001b[39m], loaders[\u001b[38;5;124m'\u001b[39m\u001b[38;5;124mval\u001b[39m\u001b[38;5;124m'\u001b[39m], loaders[\u001b[38;5;124m'\u001b[39m\u001b[38;5;124mtest\u001b[39m\u001b[38;5;124m'\u001b[39m]\n",
      "File \u001b[0;32m/mimer/NOBACKUP/groups/ulio_inverse/UQ/Uncertainty-Quantification-Frozen-Embeddings/alvis_code/ProbVLM/src/utils.py:116\u001b[0m, in \u001b[0;36mload_data_loader\u001b[0;34m(dataset, data_dir, dataloader_config)\u001b[0m\n\u001b[1;32m    109\u001b[0m prepare_loaders \u001b[38;5;241m=\u001b[39m {\n\u001b[1;32m    110\u001b[0m     \u001b[38;5;124m'\u001b[39m\u001b[38;5;124mcoco\u001b[39m\u001b[38;5;124m'\u001b[39m: prepare_coco_dataloaders,\n\u001b[1;32m    111\u001b[0m     \u001b[38;5;124m'\u001b[39m\u001b[38;5;124mflickr\u001b[39m\u001b[38;5;124m'\u001b[39m: prepare_flickr_dataloaders,\n\u001b[1;32m    112\u001b[0m     \u001b[38;5;124m'\u001b[39m\u001b[38;5;124mCUB\u001b[39m\u001b[38;5;124m'\u001b[39m:prepare_cub_dataloaders,\n\u001b[1;32m    113\u001b[0m     \u001b[38;5;124m'\u001b[39m\u001b[38;5;124mFLO\u001b[39m\u001b[38;5;124m'\u001b[39m:prepare_flo_dataloaders\n\u001b[1;32m    114\u001b[0m }[dataset]\n\u001b[1;32m    115\u001b[0m \u001b[38;5;28;01mif\u001b[39;00m dataset \u001b[38;5;241m==\u001b[39m \u001b[38;5;124m'\u001b[39m\u001b[38;5;124mCUB\u001b[39m\u001b[38;5;124m'\u001b[39m:\n\u001b[0;32m--> 116\u001b[0m     loaders \u001b[38;5;241m=\u001b[39m \u001b[43mprepare_loaders\u001b[49m\u001b[43m(\u001b[49m\n\u001b[1;32m    117\u001b[0m \u001b[43m        \u001b[49m\u001b[43mdataloader_config\u001b[49m\u001b[43m,\u001b[49m\n\u001b[1;32m    118\u001b[0m \u001b[43m        \u001b[49m\u001b[43mdataset_root\u001b[49m\u001b[38;5;241;43m=\u001b[39;49m\u001b[43mdata_dir\u001b[49m\u001b[43m,\u001b[49m\n\u001b[1;32m    119\u001b[0m \u001b[43m        \u001b[49m\u001b[43mcaption_root\u001b[49m\u001b[38;5;241;43m=\u001b[39;49m\u001b[43mdata_dir\u001b[49m\u001b[38;5;241;43m+\u001b[39;49m\u001b[38;5;124;43m'\u001b[39;49m\u001b[38;5;124;43m/text_c10\u001b[39;49m\u001b[38;5;124;43m'\u001b[39;49m\u001b[43m,\u001b[49m\n\u001b[1;32m    120\u001b[0m \u001b[43m        \u001b[49m\u001b[43mvocab_path\u001b[49m\u001b[38;5;241;43m=\u001b[39;49m\u001b[38;5;124;43m'\u001b[39;49m\u001b[38;5;124;43mds/vocabs/cub_vocab.pkl\u001b[39;49m\u001b[38;5;124;43m'\u001b[39;49m\u001b[43m)\u001b[49m\n\u001b[1;32m    121\u001b[0m \u001b[38;5;28;01melif\u001b[39;00m dataset \u001b[38;5;241m==\u001b[39m \u001b[38;5;124m'\u001b[39m\u001b[38;5;124mFLO\u001b[39m\u001b[38;5;124m'\u001b[39m:\n\u001b[1;32m    122\u001b[0m     loaders \u001b[38;5;241m=\u001b[39m prepare_loaders(\n\u001b[1;32m    123\u001b[0m         dataloader_config,\n\u001b[1;32m    124\u001b[0m         dataset_root\u001b[38;5;241m=\u001b[39mdata_dir,\n\u001b[1;32m    125\u001b[0m         caption_root\u001b[38;5;241m=\u001b[39mdata_dir\u001b[38;5;241m+\u001b[39m\u001b[38;5;124m'\u001b[39m\u001b[38;5;124m/text_c10\u001b[39m\u001b[38;5;124m'\u001b[39m,)\n",
      "File \u001b[0;32m/mimer/NOBACKUP/groups/ulio_inverse/UQ/Uncertainty-Quantification-Frozen-Embeddings/alvis_code/ProbVLM/src/ds/_dataloader.py:293\u001b[0m, in \u001b[0;36mprepare_cub_dataloaders\u001b[0;34m(dataloader_config, dataset_root, caption_root, dataset_name, vocab_path, num_workers)\u001b[0m\n\u001b[1;32m    266\u001b[0m \u001b[38;5;28;01mdef\u001b[39;00m \u001b[38;5;21mprepare_cub_dataloaders\u001b[39m(dataloader_config,\n\u001b[1;32m    267\u001b[0m                             dataset_root,\n\u001b[1;32m    268\u001b[0m                             caption_root,\n\u001b[1;32m    269\u001b[0m                             dataset_name\u001b[38;5;241m=\u001b[39m\u001b[38;5;124m'\u001b[39m\u001b[38;5;124mcub\u001b[39m\u001b[38;5;124m'\u001b[39m,\n\u001b[1;32m    270\u001b[0m                             vocab_path\u001b[38;5;241m=\u001b[39m\u001b[38;5;124m'\u001b[39m\u001b[38;5;124m./vocabs/cub_vocab.pkl\u001b[39m\u001b[38;5;124m'\u001b[39m,\n\u001b[1;32m    271\u001b[0m                             num_workers\u001b[38;5;241m=\u001b[39m\u001b[38;5;241m6\u001b[39m):\n\u001b[1;32m    272\u001b[0m \u001b[38;5;250m    \u001b[39m\u001b[38;5;124;03m\"\"\"Prepare CUB Caption train / val / test dataloaders\u001b[39;00m\n\u001b[1;32m    273\u001b[0m \u001b[38;5;124;03m    CUB Caption loader has a fixed batch size\u001b[39;00m\n\u001b[1;32m    274\u001b[0m \u001b[38;5;124;03m    - train loader: # classes (trainval = 100, full = 150)\u001b[39;00m\n\u001b[0;32m   (...)\u001b[0m\n\u001b[1;32m    291\u001b[0m \u001b[38;5;124;03m        vocab (Vocabulary object): vocab object\u001b[39;00m\n\u001b[1;32m    292\u001b[0m \u001b[38;5;124;03m    \"\"\"\u001b[39;00m\n\u001b[0;32m--> 293\u001b[0m     vocab \u001b[38;5;241m=\u001b[39m \u001b[43mload_vocab\u001b[49m\u001b[43m(\u001b[49m\u001b[43mvocab_path\u001b[49m\u001b[43m)\u001b[49m\n\u001b[1;32m    294\u001b[0m     train_classes, val_classes, omit_ids, image_root, caption_root \u001b[38;5;241m=\u001b[39m _get_cub_file_paths(\n\u001b[1;32m    295\u001b[0m         dataset_name, dataset_root, caption_root)\n\u001b[1;32m    297\u001b[0m     cutout_prob \u001b[38;5;241m=\u001b[39m dataloader_config\u001b[38;5;241m.\u001b[39mget(\u001b[38;5;124m'\u001b[39m\u001b[38;5;124mrandom_erasing_prob\u001b[39m\u001b[38;5;124m'\u001b[39m, \u001b[38;5;241m0.0\u001b[39m)\n",
      "File \u001b[0;32m/mimer/NOBACKUP/groups/ulio_inverse/UQ/Uncertainty-Quantification-Frozen-Embeddings/alvis_code/ProbVLM/src/ds/_dataloader.py:178\u001b[0m, in \u001b[0;36mload_vocab\u001b[0;34m(vocab_path)\u001b[0m\n\u001b[1;32m    176\u001b[0m \u001b[38;5;28;01mif\u001b[39;00m \u001b[38;5;28misinstance\u001b[39m(vocab_path, \u001b[38;5;28mstr\u001b[39m):\n\u001b[1;32m    177\u001b[0m     vocab \u001b[38;5;241m=\u001b[39m Vocabulary()\n\u001b[0;32m--> 178\u001b[0m     \u001b[43mvocab\u001b[49m\u001b[38;5;241;43m.\u001b[39;49m\u001b[43mload_from_pickle\u001b[49m\u001b[43m(\u001b[49m\u001b[43mvocab_path\u001b[49m\u001b[43m)\u001b[49m\n\u001b[1;32m    179\u001b[0m \u001b[38;5;28;01melse\u001b[39;00m:\n\u001b[1;32m    180\u001b[0m     vocab \u001b[38;5;241m=\u001b[39m vocab_path\n",
      "File \u001b[0;32m/mimer/NOBACKUP/groups/ulio_inverse/UQ/Uncertainty-Quantification-Frozen-Embeddings/alvis_code/ProbVLM/src/ds/vocab.py:39\u001b[0m, in \u001b[0;36mVocabulary.load_from_pickle\u001b[0;34m(self, data_path)\u001b[0m\n\u001b[1;32m     38\u001b[0m \u001b[38;5;28;01mdef\u001b[39;00m \u001b[38;5;21mload_from_pickle\u001b[39m(\u001b[38;5;28mself\u001b[39m, data_path):\n\u001b[0;32m---> 39\u001b[0m     \u001b[38;5;28;01mwith\u001b[39;00m \u001b[38;5;28;43mopen\u001b[39;49m\u001b[43m(\u001b[49m\u001b[43mdata_path\u001b[49m\u001b[43m,\u001b[49m\u001b[43m \u001b[49m\u001b[38;5;124;43m'\u001b[39;49m\u001b[38;5;124;43mrb\u001b[39;49m\u001b[38;5;124;43m'\u001b[39;49m\u001b[43m)\u001b[49m \u001b[38;5;28;01mas\u001b[39;00m fin:\n\u001b[1;32m     40\u001b[0m         data \u001b[38;5;241m=\u001b[39m pickle\u001b[38;5;241m.\u001b[39mload(fin)\n\u001b[1;32m     41\u001b[0m     \u001b[38;5;28mself\u001b[39m\u001b[38;5;241m.\u001b[39midx \u001b[38;5;241m=\u001b[39m data[\u001b[38;5;124m'\u001b[39m\u001b[38;5;124midx\u001b[39m\u001b[38;5;124m'\u001b[39m]\n",
      "\u001b[0;31mFileNotFoundError\u001b[0m: [Errno 2] No such file or directory: 'ds/vocabs/cub_vocab.pkl'"
     ]
    }
   ],
   "source": [
    "dataset = 'CUB' # coco or flickr\n",
    "data_dir = ospj('/mnt/Datasets/', dataset) # e.g. ospj(expanduser('~'), 'Documents', 'jm', 'data', dataset)\n",
    "dataloader_config = mch({\n",
    "    'batch_size': 64,\n",
    "    'random_erasing_prob': 0.,\n",
    "    'traindata_shuffle': True\n",
    "})\n",
    "loaders,vocab = load_data_loader(dataset, data_dir, dataloader_config)\n",
    "cub_train_loader, cub_valid_loader, cub_test_loader = loaders['train'], loaders['val'], loaders['test']"
   ]
  },
  {
   "cell_type": "code",
   "execution_count": null,
   "id": "7da29997-5483-4fa0-b927-74b38dc36cdf",
   "metadata": {},
   "outputs": [],
   "source": [
    "# clip_net = load_model('cuda')\n",
    "CLIP_Net = load_model(device='cuda', model_path=None)\n",
    "ProbVLM_Net = BayesCap_for_CLIP(\n",
    "    inp_dim=512,\n",
    "    out_dim=512,\n",
    "    hid_dim=256,\n",
    "    num_layers=3,\n",
    "    p_drop=0.05,\n",
    ")"
   ]
  },
  {
   "cell_type": "code",
   "execution_count": null,
   "id": "e1513f40-28d1-4d4d-8d9b-e113c8cd4183",
   "metadata": {},
   "outputs": [],
   "source": [
    "train_ProbVLM(\n",
    "    CLIP_Net,\n",
    "    ProbVLM_Net,\n",
    "    cub_train_loader,\n",
    "    cub_valid_loader,\n",
    "    Cri = TempCombLoss(),\n",
    "    device='cuda',\n",
    "    dtype=torch.cuda.FloatTensor,\n",
    "    init_lr=8e-5,\n",
    "    num_epochs=500,\n",
    "    eval_every=5,\n",
    "    ckpt_path='../ckpt/ProbVLM_Net',\n",
    "    T1=1e0,\n",
    "    T2=1e-4\n",
    ")"
   ]
  }
 ],
 "metadata": {
  "kernelspec": {
   "display_name": "UQ_Kernel",
   "language": "python",
   "name": "uq_venv"
  },
  "language_info": {
   "codemirror_mode": {
    "name": "ipython",
    "version": 3
   },
   "file_extension": ".py",
   "mimetype": "text/x-python",
   "name": "python",
   "nbconvert_exporter": "python",
   "pygments_lexer": "ipython3",
   "version": "3.11.3"
  }
 },
 "nbformat": 4,
 "nbformat_minor": 5
}
